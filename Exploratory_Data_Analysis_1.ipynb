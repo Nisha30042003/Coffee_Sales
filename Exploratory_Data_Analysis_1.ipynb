{
 "cells": [
  {
   "cell_type": "code",
   "execution_count": 1,
   "id": "aa706116",
   "metadata": {},
   "outputs": [
    {
     "data": {
      "text/html": [
       "<div>\n",
       "<style scoped>\n",
       "    .dataframe tbody tr th:only-of-type {\n",
       "        vertical-align: middle;\n",
       "    }\n",
       "\n",
       "    .dataframe tbody tr th {\n",
       "        vertical-align: top;\n",
       "    }\n",
       "\n",
       "    .dataframe thead th {\n",
       "        text-align: right;\n",
       "    }\n",
       "</style>\n",
       "<table border=\"1\" class=\"dataframe\">\n",
       "  <thead>\n",
       "    <tr style=\"text-align: right;\">\n",
       "      <th></th>\n",
       "      <th>date</th>\n",
       "      <th>datetime</th>\n",
       "      <th>cash_type</th>\n",
       "      <th>card</th>\n",
       "      <th>money</th>\n",
       "      <th>coffee_name</th>\n",
       "    </tr>\n",
       "  </thead>\n",
       "  <tbody>\n",
       "    <tr>\n",
       "      <th>0</th>\n",
       "      <td>2024-03-01</td>\n",
       "      <td>2024-03-01 10:15:50.520</td>\n",
       "      <td>card</td>\n",
       "      <td>ANON-0000-0000-0001</td>\n",
       "      <td>38.70</td>\n",
       "      <td>Latte</td>\n",
       "    </tr>\n",
       "    <tr>\n",
       "      <th>1</th>\n",
       "      <td>2024-03-01</td>\n",
       "      <td>2024-03-01 12:19:22.539</td>\n",
       "      <td>card</td>\n",
       "      <td>ANON-0000-0000-0002</td>\n",
       "      <td>38.70</td>\n",
       "      <td>Hot Chocolate</td>\n",
       "    </tr>\n",
       "    <tr>\n",
       "      <th>2</th>\n",
       "      <td>2024-03-01</td>\n",
       "      <td>2024-03-01 12:20:18.089</td>\n",
       "      <td>card</td>\n",
       "      <td>ANON-0000-0000-0002</td>\n",
       "      <td>38.70</td>\n",
       "      <td>Hot Chocolate</td>\n",
       "    </tr>\n",
       "    <tr>\n",
       "      <th>3</th>\n",
       "      <td>2024-03-01</td>\n",
       "      <td>2024-03-01 13:46:33.006</td>\n",
       "      <td>card</td>\n",
       "      <td>ANON-0000-0000-0003</td>\n",
       "      <td>28.90</td>\n",
       "      <td>Americano</td>\n",
       "    </tr>\n",
       "    <tr>\n",
       "      <th>4</th>\n",
       "      <td>2024-03-01</td>\n",
       "      <td>2024-03-01 13:48:14.626</td>\n",
       "      <td>card</td>\n",
       "      <td>ANON-0000-0000-0004</td>\n",
       "      <td>38.70</td>\n",
       "      <td>Latte</td>\n",
       "    </tr>\n",
       "    <tr>\n",
       "      <th>...</th>\n",
       "      <td>...</td>\n",
       "      <td>...</td>\n",
       "      <td>...</td>\n",
       "      <td>...</td>\n",
       "      <td>...</td>\n",
       "      <td>...</td>\n",
       "    </tr>\n",
       "    <tr>\n",
       "      <th>1128</th>\n",
       "      <td>2024-07-31</td>\n",
       "      <td>2024-07-31 20:53:35.077</td>\n",
       "      <td>card</td>\n",
       "      <td>ANON-0000-0000-0443</td>\n",
       "      <td>23.02</td>\n",
       "      <td>Cortado</td>\n",
       "    </tr>\n",
       "    <tr>\n",
       "      <th>1129</th>\n",
       "      <td>2024-07-31</td>\n",
       "      <td>2024-07-31 20:59:25.013</td>\n",
       "      <td>card</td>\n",
       "      <td>ANON-0000-0000-0040</td>\n",
       "      <td>27.92</td>\n",
       "      <td>Americano with Milk</td>\n",
       "    </tr>\n",
       "    <tr>\n",
       "      <th>1130</th>\n",
       "      <td>2024-07-31</td>\n",
       "      <td>2024-07-31 21:26:26.000</td>\n",
       "      <td>card</td>\n",
       "      <td>ANON-0000-0000-0444</td>\n",
       "      <td>32.82</td>\n",
       "      <td>Latte</td>\n",
       "    </tr>\n",
       "    <tr>\n",
       "      <th>1131</th>\n",
       "      <td>2024-07-31</td>\n",
       "      <td>2024-07-31 21:54:11.824</td>\n",
       "      <td>card</td>\n",
       "      <td>ANON-0000-0000-0445</td>\n",
       "      <td>32.82</td>\n",
       "      <td>Latte</td>\n",
       "    </tr>\n",
       "    <tr>\n",
       "      <th>1132</th>\n",
       "      <td>2024-07-31</td>\n",
       "      <td>2024-07-31 21:55:16.570</td>\n",
       "      <td>card</td>\n",
       "      <td>ANON-0000-0000-0446</td>\n",
       "      <td>32.82</td>\n",
       "      <td>Latte</td>\n",
       "    </tr>\n",
       "  </tbody>\n",
       "</table>\n",
       "<p>1133 rows × 6 columns</p>\n",
       "</div>"
      ],
      "text/plain": [
       "            date                 datetime cash_type                 card  \\\n",
       "0     2024-03-01  2024-03-01 10:15:50.520      card  ANON-0000-0000-0001   \n",
       "1     2024-03-01  2024-03-01 12:19:22.539      card  ANON-0000-0000-0002   \n",
       "2     2024-03-01  2024-03-01 12:20:18.089      card  ANON-0000-0000-0002   \n",
       "3     2024-03-01  2024-03-01 13:46:33.006      card  ANON-0000-0000-0003   \n",
       "4     2024-03-01  2024-03-01 13:48:14.626      card  ANON-0000-0000-0004   \n",
       "...          ...                      ...       ...                  ...   \n",
       "1128  2024-07-31  2024-07-31 20:53:35.077      card  ANON-0000-0000-0443   \n",
       "1129  2024-07-31  2024-07-31 20:59:25.013      card  ANON-0000-0000-0040   \n",
       "1130  2024-07-31  2024-07-31 21:26:26.000      card  ANON-0000-0000-0444   \n",
       "1131  2024-07-31  2024-07-31 21:54:11.824      card  ANON-0000-0000-0445   \n",
       "1132  2024-07-31  2024-07-31 21:55:16.570      card  ANON-0000-0000-0446   \n",
       "\n",
       "      money          coffee_name  \n",
       "0     38.70                Latte  \n",
       "1     38.70        Hot Chocolate  \n",
       "2     38.70        Hot Chocolate  \n",
       "3     28.90            Americano  \n",
       "4     38.70                Latte  \n",
       "...     ...                  ...  \n",
       "1128  23.02              Cortado  \n",
       "1129  27.92  Americano with Milk  \n",
       "1130  32.82                Latte  \n",
       "1131  32.82                Latte  \n",
       "1132  32.82                Latte  \n",
       "\n",
       "[1133 rows x 6 columns]"
      ]
     },
     "execution_count": 1,
     "metadata": {},
     "output_type": "execute_result"
    }
   ],
   "source": [
    "import pandas as  pd                  # For numerical operations (e.g., arrays, stats)\n",
    "import pandas as pd                   # For data manipulation and reading CSV files\n",
    "import matplotlib.pyplot as plt       # For plotting graphs\n",
    "import seaborn as sns                 # For advanced visualizations\n",
    "import datetime as dt                 # For handling date and time formats\n",
    "import warnings\n",
    "warnings.filterwarnings('ignore')  # Suppresses warning messages for cleaner output\n",
    "\n",
    " # Load the dataset\n",
    "df = pd.read_csv(\"C:/Users/Bagnath/Downloads/CoffeeSales/coffee_sales.csv\")\n",
    " \n",
    "df\n"
   ]
  },
  {
   "cell_type": "code",
   "execution_count": 2,
   "id": "961d5ea6",
   "metadata": {},
   "outputs": [
    {
     "name": "stdout",
     "output_type": "stream",
     "text": [
      "         date                 datetime cash_type                 card  money  \\\n",
      "0  2024-03-01  2024-03-01 10:15:50.520      card  ANON-0000-0000-0001   38.7   \n",
      "1  2024-03-01  2024-03-01 12:19:22.539      card  ANON-0000-0000-0002   38.7   \n",
      "2  2024-03-01  2024-03-01 12:20:18.089      card  ANON-0000-0000-0002   38.7   \n",
      "3  2024-03-01  2024-03-01 13:46:33.006      card  ANON-0000-0000-0003   28.9   \n",
      "4  2024-03-01  2024-03-01 13:48:14.626      card  ANON-0000-0000-0004   38.7   \n",
      "\n",
      "     coffee_name  \n",
      "0          Latte  \n",
      "1  Hot Chocolate  \n",
      "2  Hot Chocolate  \n",
      "3      Americano  \n",
      "4          Latte  \n"
     ]
    }
   ],
   "source": [
    "print(df.head())          # Shows first 5 rows\n"
   ]
  },
  {
   "cell_type": "code",
   "execution_count": 3,
   "id": "1572ff06",
   "metadata": {},
   "outputs": [
    {
     "name": "stdout",
     "output_type": "stream",
     "text": [
      "<class 'pandas.core.frame.DataFrame'>\n",
      "RangeIndex: 1133 entries, 0 to 1132\n",
      "Data columns (total 6 columns):\n",
      " #   Column       Non-Null Count  Dtype  \n",
      "---  ------       --------------  -----  \n",
      " 0   date         1133 non-null   object \n",
      " 1   datetime     1133 non-null   object \n",
      " 2   cash_type    1133 non-null   object \n",
      " 3   card         1044 non-null   object \n",
      " 4   money        1133 non-null   float64\n",
      " 5   coffee_name  1133 non-null   object \n",
      "dtypes: float64(1), object(5)\n",
      "memory usage: 53.2+ KB\n",
      "None\n"
     ]
    }
   ],
   "source": [
    "print(df.info())          # Data types and null counts\n"
   ]
  },
  {
   "cell_type": "code",
   "execution_count": 4,
   "id": "df5e14e8",
   "metadata": {},
   "outputs": [
    {
     "name": "stdout",
     "output_type": "stream",
     "text": [
      "             money\n",
      "count  1133.000000\n",
      "mean     33.105808\n",
      "std       5.035366\n",
      "min      18.120000\n",
      "25%      28.900000\n",
      "50%      32.820000\n",
      "75%      37.720000\n",
      "max      40.000000\n"
     ]
    }
   ],
   "source": [
    "print(df.describe())      # Summary stats for numeric columns\n"
   ]
  },
  {
   "cell_type": "code",
   "execution_count": 5,
   "id": "82cdd70d",
   "metadata": {},
   "outputs": [
    {
     "name": "stdout",
     "output_type": "stream",
     "text": [
      "Missing values per column:\n",
      "date            0\n",
      "datetime        0\n",
      "cash_type       0\n",
      "card           89\n",
      "money           0\n",
      "coffee_name     0\n",
      "dtype: int64\n"
     ]
    }
   ],
   "source": [
    "# Check for missing values\n",
    "print(\"Missing values per column:\")\n",
    "print(df.isnull().sum())"
   ]
  },
  {
   "cell_type": "code",
   "execution_count": 6,
   "id": "34591f02",
   "metadata": {},
   "outputs": [
    {
     "name": "stdout",
     "output_type": "stream",
     "text": [
      "Number of duplicate rows:\n",
      "0\n"
     ]
    }
   ],
   "source": [
    "# Check for duplicate rows\n",
    "print(\"Number of duplicate rows:\")\n",
    "print(df.duplicated().sum())"
   ]
  },
  {
   "cell_type": "code",
   "execution_count": 7,
   "id": "d256b73b",
   "metadata": {},
   "outputs": [
    {
     "name": "stdout",
     "output_type": "stream",
     "text": [
      "Summary statistics for categorical columns:\n",
      "            count unique                  top  freq\n",
      "cash_type    1133      2                 card  1044\n",
      "card         1044    446  ANON-0000-0000-0012    88\n",
      "coffee_name  1133      8  Americano with Milk   268\n"
     ]
    }
   ],
   "source": [
    "\n",
    "# Summary for categorical columns\n",
    "print(\"Summary statistics for categorical columns:\")\n",
    "print(df[['cash_type', 'card', 'coffee_name']].describe().T)\n"
   ]
  },
  {
   "cell_type": "code",
   "execution_count": 8,
   "id": "7d2012f0",
   "metadata": {},
   "outputs": [
    {
     "name": "stdout",
     "output_type": "stream",
     "text": [
      "Total transactions: 1133\n",
      "Missing 'card' values: 89\n",
      "Unique payment types: 2\n",
      "Most popular coffee: Americano with Milk\n"
     ]
    }
   ],
   "source": [
    "print(\"Total transactions:\", len(df))\n",
    "print(\"Missing 'card' values:\", df['card'].isnull().sum())\n",
    "print(\"Unique payment types:\", df['cash_type'].nunique())\n",
    "print(\"Most popular coffee:\", df['coffee_name'].value_counts().idxmax())\n"
   ]
  },
  {
   "cell_type": "code",
   "execution_count": 9,
   "id": "724e96ac",
   "metadata": {},
   "outputs": [
    {
     "data": {
      "image/png": "[encoded data removed]",
      "text/plain": [
       "<Figure size 640x480 with 1 Axes>"
      ]
     },
     "metadata": {},
     "output_type": "display_data"
    }
   ],
   "source": [
    "\n",
    "# Visualize payment method distribution\n",
    "\n",
    "df['cash_type'].value_counts().plot(kind='bar', color='teal')\n",
    "plt.title('Payment Method Distribution')\n",
    "plt.xlabel('Payment Type')\n",
    "plt.ylabel('Number of Transactions')\n",
    "plt.xticks(rotation=0)\n",
    "plt.show()\n"
   ]
  },
  {
   "cell_type": "code",
   "execution_count": 10,
   "id": "53bcf8a8",
   "metadata": {},
   "outputs": [
    {
     "data": {
      "image/png": "[encoded data removed]",
      "text/plain": [
       "<Figure size 640x480 with 1 Axes>"
      ]
     },
     "metadata": {},
     "output_type": "display_data"
    }
   ],
   "source": [
    "\n",
    "# Visualize coffee popularity\n",
    "\n",
    "sns.countplot(data=df, y='coffee_name', order=df['coffee_name'].value_counts().index, palette='viridis')\n",
    "plt.title('Most Popular Coffee Types')\n",
    "plt.xlabel('Number of Purchases')\n",
    "plt.ylabel('Coffee Type')\n",
    "plt.show()\n"
   ]
  },
  {
   "cell_type": "code",
   "execution_count": null,
   "id": "72dee0ca",
   "metadata": {},
   "outputs": [],
   "source": []
  }
 ],
 "metadata": {
  "kernelspec": {
   "display_name": "coffeesales",
   "language": "python",
   "name": "python3"
  },
  "language_info": {
   "codemirror_mode": {
    "name": "ipython",
    "version": 3
   },
   "file_extension": ".py",
   "mimetype": "text/x-python",
   "name": "python",
   "nbconvert_exporter": "python",
   "pygments_lexer": "ipython3",
   "version": "3.8.20"
  }
 },
 "nbformat": 4,
 "nbformat_minor": 5
}
